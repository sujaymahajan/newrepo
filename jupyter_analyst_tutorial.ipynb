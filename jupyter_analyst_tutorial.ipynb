{
 "cells": [
  {
   "cell_type": "markdown",
   "metadata": {
    "toc": "true"
   },
   "source": [
    "# Table of Contents\n",
    " <p><div class=\"lev1 toc-item\"><a href=\"#What-is-a-Jupyter-Notebook?\" data-toc-modified-id=\"What-is-a-Jupyter-Notebook?-1\"><span class=\"toc-item-num\">1&nbsp;&nbsp;</span>What is a Jupyter Notebook?</a></div><div class=\"lev1 toc-item\"><a href=\"#Data-Science-Module\" data-toc-modified-id=\"Data-Science-Module-2\"><span class=\"toc-item-num\">2&nbsp;&nbsp;</span>Data Science Module</a></div><div class=\"lev2 toc-item\"><a href=\"#What-is-a-module?\" data-toc-modified-id=\"What-is-a-module?-21\"><span class=\"toc-item-num\">2.1&nbsp;&nbsp;</span>What is a module?</a></div><div class=\"lev2 toc-item\"><a href=\"#Red-Hat-Business-Finance-Data-Science-Module\" data-toc-modified-id=\"Red-Hat-Business-Finance-Data-Science-Module-22\"><span class=\"toc-item-num\">2.2&nbsp;&nbsp;</span>Red Hat Business Finance Data Science Module</a></div><div class=\"lev1 toc-item\"><a href=\"#Querying-Data\" data-toc-modified-id=\"Querying-Data-3\"><span class=\"toc-item-num\">3&nbsp;&nbsp;</span>Querying Data</a></div><div class=\"lev2 toc-item\"><a href=\"#RedShift\" data-toc-modified-id=\"RedShift-31\"><span class=\"toc-item-num\">3.1&nbsp;&nbsp;</span>RedShift</a></div><div class=\"lev2 toc-item\"><a href=\"#Salesforce\" data-toc-modified-id=\"Salesforce-32\"><span class=\"toc-item-num\">3.2&nbsp;&nbsp;</span>Salesforce</a></div><div class=\"lev2 toc-item\"><a href=\"#JDV\" data-toc-modified-id=\"JDV-33\"><span class=\"toc-item-num\">3.3&nbsp;&nbsp;</span>JDV</a></div><div class=\"lev1 toc-item\"><a href=\"#Data-Manipulation\" data-toc-modified-id=\"Data-Manipulation-4\"><span class=\"toc-item-num\">4&nbsp;&nbsp;</span>Data Manipulation</a></div><div class=\"lev2 toc-item\"><a href=\"#What-is-Pandas?\" data-toc-modified-id=\"What-is-Pandas?-41\"><span class=\"toc-item-num\">4.1&nbsp;&nbsp;</span>What is Pandas?</a></div><div class=\"lev2 toc-item\"><a href=\"#Calculating-Growth\" data-toc-modified-id=\"Calculating-Growth-42\"><span class=\"toc-item-num\">4.2&nbsp;&nbsp;</span>Calculating Growth</a></div><div class=\"lev2 toc-item\"><a href=\"#Pivoting-Data\" data-toc-modified-id=\"Pivoting-Data-43\"><span class=\"toc-item-num\">4.3&nbsp;&nbsp;</span>Pivoting Data</a></div><div class=\"lev1 toc-item\"><a href=\"#Plotting\" data-toc-modified-id=\"Plotting-5\"><span class=\"toc-item-num\">5&nbsp;&nbsp;</span>Plotting</a></div><div class=\"lev1 toc-item\"><a href=\"#Writing-Data\" data-toc-modified-id=\"Writing-Data-6\"><span class=\"toc-item-num\">6&nbsp;&nbsp;</span>Writing Data</a></div><div class=\"lev2 toc-item\"><a href=\"#RedShift\" data-toc-modified-id=\"RedShift-61\"><span class=\"toc-item-num\">6.1&nbsp;&nbsp;</span>RedShift</a></div><div class=\"lev2 toc-item\"><a href=\"#Google-Sheets\" data-toc-modified-id=\"Google-Sheets-62\"><span class=\"toc-item-num\">6.2&nbsp;&nbsp;</span>Google Sheets</a></div>"
   ]
  },
  {
   "cell_type": "markdown",
   "metadata": {},
   "source": [
    "# What is a Jupyter Notebook? "
   ]
  },
  {
   "cell_type": "markdown",
   "metadata": {},
   "source": [
    "First and foremost, the Jupyter Notebook is an interactive environment for writing and running code. The notebook is capable of running code in a wide range of languages. However, each notebook is associated with a single kernel. This notebook is associated with the IPython kernel, therefor runs Python code.\n",
    "\n",
    "--------------------------\n",
    "\n",
    "Code cells allow you to enter and run code\n",
    "Run a code cell using Shift-Enter or pressing the  button in the toolbar above:\n"
   ]
  },
  {
   "cell_type": "code",
   "execution_count": null,
   "metadata": {
    "ExecuteTime": {
     "end_time": "2018-10-02T15:12:24.470144Z",
     "start_time": "2018-10-02T15:12:24.463032Z"
    },
    "collapsed": true
   },
   "outputs": [],
   "source": [
    "a = 10"
   ]
  },
  {
   "cell_type": "code",
   "execution_count": null,
   "metadata": {
    "ExecuteTime": {
     "end_time": "2018-10-02T15:12:24.644312Z",
     "start_time": "2018-10-02T15:12:24.641326Z"
    }
   },
   "outputs": [],
   "source": [
    "print(a)"
   ]
  },
  {
   "cell_type": "markdown",
   "metadata": {
    "ExecuteTime": {
     "end_time": "2018-04-17T13:43:38.867787Z",
     "start_time": "2018-04-17T13:43:38.863178Z"
    }
   },
   "source": [
    "There are two other keyboard shortcuts for running code:\n",
    "\n",
    "Alt-Enter runs the current cell and inserts a new one below.\n",
    "Ctrl-Enter run the current cell and enters command mode."
   ]
  },
  {
   "cell_type": "markdown",
   "metadata": {},
   "source": [
    "# Data Science Module"
   ]
  },
  {
   "cell_type": "markdown",
   "metadata": {},
   "source": [
    "## What is a module?"
   ]
  },
  {
   "cell_type": "code",
   "execution_count": null,
   "metadata": {
    "ExecuteTime": {
     "end_time": "2018-10-02T15:12:25.897813Z",
     "start_time": "2018-10-02T15:12:25.895318Z"
    },
    "collapsed": true
   },
   "outputs": [],
   "source": [
    "import pandas as pd\n",
    "import numpy as np"
   ]
  },
  {
   "cell_type": "markdown",
   "metadata": {},
   "source": [
    "## Red Hat Business Finance Data Science Module"
   ]
  },
  {
   "cell_type": "markdown",
   "metadata": {},
   "source": [
    "This Module is a collection of functions that help simplify a bunch of tasks you may face as an analyst at Red Hat\n",
    "\n",
    "Link: https://gitlab.cee.redhat.com/global-finance-data-science/datascience_module/blob/master/datascience/__init__.py"
   ]
  },
  {
   "cell_type": "code",
   "execution_count": null,
   "metadata": {
    "ExecuteTime": {
     "end_time": "2018-10-02T15:12:27.148484Z",
     "start_time": "2018-10-02T15:12:27.146347Z"
    },
    "collapsed": true
   },
   "outputs": [],
   "source": [
    "import datascience as ds"
   ]
  },
  {
   "cell_type": "code",
   "execution_count": null,
   "metadata": {
    "ExecuteTime": {
     "end_time": "2018-10-02T15:12:27.658863Z",
     "start_time": "2018-10-02T15:12:27.646560Z"
    }
   },
   "outputs": [],
   "source": [
    "#What functions are in here? \n",
    "dir(ds)[15:]"
   ]
  },
  {
   "cell_type": "markdown",
   "metadata": {},
   "source": [
    "# Querying Data"
   ]
  },
  {
   "cell_type": "markdown",
   "metadata": {},
   "source": [
    "## RedShift "
   ]
  },
  {
   "cell_type": "code",
   "execution_count": null,
   "metadata": {
    "ExecuteTime": {
     "end_time": "2018-10-02T15:12:37.199055Z",
     "start_time": "2018-10-02T15:12:29.570150Z"
    }
   },
   "outputs": [],
   "source": [
    "# Redshift\n",
    "\n",
    "queryString = \"\"\" SELECT fy_final, sum(revenue_cy_pr) as revenue, \n",
    "                         sum(syb_cy_pr) as syb, sum(tb_cy_pr) as tb\n",
    "                         \n",
    "                  FROM rsds_ops.customer_timeline_long\n",
    "            \n",
    "                  WHERE fy_final between 2011 and 2018\n",
    "                  \n",
    "                  GROUP BY fy_final\n",
    "                  ORDER BY fy_final\n",
    "\n",
    "              \"\"\"\n",
    "\n",
    "df = ds.query_RS(username='',password='', queryString=queryString)\n",
    "df"
   ]
  },
  {
   "cell_type": "markdown",
   "metadata": {},
   "source": [
    "## Salesforce"
   ]
  },
  {
   "cell_type": "code",
   "execution_count": null,
   "metadata": {
    "ExecuteTime": {
     "end_time": "2018-07-30T18:23:44.827670Z",
     "start_time": "2018-07-30T18:23:37.340376Z"
    }
   },
   "outputs": [],
   "source": [
    "# SFDC\n",
    "sfdc = ds.sfdc_to_pd(username='',password='',reportid='00O60000004DwzK')\n",
    "\n",
    "sfdc.head()"
   ]
  },
  {
   "cell_type": "markdown",
   "metadata": {},
   "source": [
    "## JDV "
   ]
  },
  {
   "cell_type": "code",
   "execution_count": null,
   "metadata": {
    "ExecuteTime": {
     "end_time": "2018-10-02T15:14:29.969122Z",
     "start_time": "2018-10-02T15:14:21.750452Z"
    },
    "collapsed": true
   },
   "outputs": [],
   "source": [
    "import datascience as ds\n",
    "\n",
    "oppQuery =\n",
    "\n",
    "\"\"\"\n",
    "SELECT opportunity_number, \n",
    "    opportunity_name, \n",
    "    opportunity_forecast_category, \n",
    "    opportunity_close_date\n",
    "FROM APL_VDB_SFDC_SALES.sfdc_opprtnty_hdr AS opp\n",
    "WHERE opportunity_close_date < CURDATE()\n",
    "AND opportunity_forecast_category NOT IN ('Closed','Omitted')\n",
    "\n",
    "\"\"\"\n",
    "\n",
    "\n",
    "oppTable = ds.query_JDV(oppQuery)"
   ]
  },
  {
   "cell_type": "code",
   "execution_count": null,
   "metadata": {
    "ExecuteTime": {
     "end_time": "2018-10-02T15:14:29.981663Z",
     "start_time": "2018-10-02T15:14:29.971262Z"
    }
   },
   "outputs": [],
   "source": [
    "oppTable.head()"
   ]
  },
  {
   "cell_type": "markdown",
   "metadata": {},
   "source": [
    "# Data Manipulation"
   ]
  },
  {
   "cell_type": "markdown",
   "metadata": {},
   "source": [
    "## What is Pandas? "
   ]
  },
  {
   "cell_type": "code",
   "execution_count": null,
   "metadata": {
    "ExecuteTime": {
     "start_time": "2018-05-29T21:49:17.146Z"
    },
    "collapsed": true
   },
   "outputs": [],
   "source": [
    "# Common Excel Tasks in Pandas http://pbpython.com/excel-pandas-comp.html"
   ]
  },
  {
   "cell_type": "markdown",
   "metadata": {},
   "source": [
    "## Calculating Growth"
   ]
  },
  {
   "cell_type": "code",
   "execution_count": null,
   "metadata": {
    "ExecuteTime": {
     "end_time": "2018-07-30T18:23:50.176150Z",
     "start_time": "2018-07-30T18:23:50.129866Z"
    }
   },
   "outputs": [],
   "source": [
    "#Example of Calculating Growth \n",
    "\n",
    "df['revenue_growth'] = df['revenue'].pct_change()\n",
    "df['syb_growth'] = df['syb'].pct_change()\n",
    "df['tb_growth'] = df['tb'].pct_change()\n",
    "\n",
    "df"
   ]
  },
  {
   "cell_type": "code",
   "execution_count": null,
   "metadata": {
    "ExecuteTime": {
     "end_time": "2018-07-30T18:23:50.502068Z",
     "start_time": "2018-07-30T18:23:50.480453Z"
    }
   },
   "outputs": [],
   "source": [
    "#example of a function\n",
    "\n",
    "def growth(variable, df):\n",
    "    df[variable+'_growth']=df[variable].pct_change().round(2)\n",
    "    return df\n",
    "\n",
    "variables = ['revenue', 'syb', 'tb']\n",
    "\n",
    "for i in variables: \n",
    "    growth(i,df) \n",
    "\n",
    "df[1:]"
   ]
  },
  {
   "cell_type": "markdown",
   "metadata": {},
   "source": [
    "## Pivoting Data "
   ]
  },
  {
   "cell_type": "code",
   "execution_count": null,
   "metadata": {
    "ExecuteTime": {
     "end_time": "2018-07-30T18:23:51.473453Z",
     "start_time": "2018-07-30T18:23:51.458293Z"
    }
   },
   "outputs": [],
   "source": [
    "growth_rates=pd.melt(df[1:], id_vars=['fy_final'], value_vars=['revenue_growth','syb_growth','tb_growth'])\n",
    "growth_rates.head()"
   ]
  },
  {
   "cell_type": "markdown",
   "metadata": {},
   "source": [
    "# Plotting"
   ]
  },
  {
   "cell_type": "code",
   "execution_count": null,
   "metadata": {
    "ExecuteTime": {
     "end_time": "2018-07-30T18:23:58.640026Z",
     "start_time": "2018-07-30T18:23:58.051453Z"
    }
   },
   "outputs": [],
   "source": [
    "import plotly.plotly as py\n",
    "import plotly.graph_objs as go\n",
    "import sys,os,os.path\n",
    "\n",
    "py.sign_in(username='wgilmore', api_key='')\n",
    "os.environ['HTTP_PROXY']=\"proxy.util.phx2.redhat.com:8080\"\n",
    "os.environ['HTTPS_PROXY']=\"proxy.util.phx2.redhat.com:8080\"\n"
   ]
  },
  {
   "cell_type": "code",
   "execution_count": null,
   "metadata": {
    "ExecuteTime": {
     "end_time": "2018-07-30T18:24:02.429652Z",
     "start_time": "2018-07-30T18:24:01.958781Z"
    }
   },
   "outputs": [],
   "source": [
    "\n",
    "ds.plotly_line(df=growth_rates, \n",
    "               group_col='variable', \n",
    "               x_col='fy_final', \n",
    "               x_title='Fiscal Year', \n",
    "               y_col='value',\n",
    "               y_title='CC Growth Rate',\n",
    "               title='Red Hat Growth Rates'\n",
    "            )"
   ]
  },
  {
   "cell_type": "markdown",
   "metadata": {
    "collapsed": true
   },
   "source": [
    "# Writing Data"
   ]
  },
  {
   "cell_type": "markdown",
   "metadata": {},
   "source": [
    "## RedShift"
   ]
  },
  {
   "cell_type": "code",
   "execution_count": null,
   "metadata": {
    "ExecuteTime": {
     "end_time": "2018-07-30T18:24:56.678724Z",
     "start_time": "2018-07-30T18:24:42.134341Z"
    }
   },
   "outputs": [],
   "source": [
    "growth_rates.to_redshift(table_name='test_table',\n",
    "                          username='',\n",
    "                          password='',\n",
    "                          if_exists='replace',\n",
    "                          schema='rsds_ops_apac',\n",
    "                          index=False)"
   ]
  },
  {
   "cell_type": "markdown",
   "metadata": {},
   "source": [
    "## Google Sheets"
   ]
  },
  {
   "cell_type": "code",
   "execution_count": null,
   "metadata": {
    "ExecuteTime": {
     "end_time": "2018-07-30T18:25:50.132214Z",
     "start_time": "2018-07-30T18:25:36.047880Z"
    },
    "collapsed": true
   },
   "outputs": [],
   "source": [
    "import gspread_pandas\n",
    "from gspread_pandas import Spread\n",
    "\n",
    "spread = Spread('username', 'growth')\n",
    "# This will ask to authenticate if you haven't done so before for 'example_user'\n",
    "\n",
    "# Display available worksheets\n",
    "spread.sheets\n",
    "\n",
    "# Save DataFrame to worksheet 'New Test Sheet', create it first if it doesn't exist\n",
    "spread.df_to_sheet(growth_rates, index=False, sheet='data', start='A1', replace=True)"
   ]
  },
  {
   "cell_type": "code",
   "execution_count": null,
   "metadata": {
    "collapsed": true
   },
   "outputs": [],
   "source": []
  },
  {
   "cell_type": "code",
   "execution_count": null,
   "metadata": {
    "collapsed": true
   },
   "outputs": [],
   "source": []
  }
 ],
 "metadata": {
  "kernelspec": {
   "display_name": "Python 3",
   "language": "python",
   "name": "python3"
  },
  "language_info": {
   "codemirror_mode": {
    "name": "ipython",
    "version": 3
   },
   "file_extension": ".py",
   "mimetype": "text/x-python",
   "name": "python",
   "nbconvert_exporter": "python",
   "pygments_lexer": "ipython3",
   "version": "3.6.2"
  },
  "toc": {
   "colors": {
    "hover_highlight": "#DAA520",
    "navigate_num": "#000000",
    "navigate_text": "#333333",
    "running_highlight": "#FF0000",
    "selected_highlight": "#FFD700",
    "sidebar_border": "#EEEEEE",
    "wrapper_background": "#FFFFFF"
   },
   "moveMenuLeft": true,
   "nav_menu": {
    "height": "171px",
    "width": "252px"
   },
   "navigate_menu": true,
   "number_sections": true,
   "sideBar": true,
   "threshold": 4,
   "toc_cell": true,
   "toc_position": {
    "height": "615px",
    "left": "0px",
    "right": "1091px",
    "top": "106px",
    "width": "189px"
   },
   "toc_section_display": "block",
   "toc_window_display": true,
   "widenNotebook": false
  }
 },
 "nbformat": 4,
 "nbformat_minor": 2
}
