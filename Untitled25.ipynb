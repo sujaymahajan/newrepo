{
 "cells": [
  {
   "cell_type": "code",
   "execution_count": 1,
   "metadata": {},
   "outputs": [
    {
     "name": "stdout",
     "output_type": "stream",
     "text": [
      "\r\n",
      "     active environment : None\r\n",
      "       user config file : /home/ubuntu/.condarc\r\n",
      " populated config files : \r\n",
      "          conda version : 4.5.11\r\n",
      "    conda-build version : 3.12.0\r\n",
      "         python version : 3.6.6.final.0\r\n",
      "       base environment : /usr/local/anaconda  (writable)\r\n",
      "           channel URLs : https://repo.anaconda.com/pkgs/main/linux-64\r\n",
      "                          https://repo.anaconda.com/pkgs/main/noarch\r\n",
      "                          https://repo.anaconda.com/pkgs/free/linux-64\r\n",
      "                          https://repo.anaconda.com/pkgs/free/noarch\r\n",
      "                          https://repo.anaconda.com/pkgs/r/linux-64\r\n",
      "                          https://repo.anaconda.com/pkgs/r/noarch\r\n",
      "                          https://repo.anaconda.com/pkgs/pro/linux-64\r\n",
      "                          https://repo.anaconda.com/pkgs/pro/noarch\r\n",
      "          package cache : /usr/local/anaconda/pkgs\r\n",
      "                          /home/ubuntu/.conda/pkgs\r\n",
      "       envs directories : /usr/local/anaconda/envs\r\n",
      "                          /home/ubuntu/.conda/envs\r\n",
      "               platform : linux-64\r\n",
      "             user-agent : conda/4.5.11 requests/2.19.1 CPython/3.6.6 Linux/3.13.0-153-generic ubuntu/16.04 glibc/2.23\r\n",
      "                UID:GID : 12574:12574\r\n",
      "             netrc file : None\r\n",
      "           offline mode : False\r\n",
      "\r\n"
     ]
    }
   ],
   "source": [
    "!conda info"
   ]
  },
  {
   "cell_type": "code",
   "execution_count": null,
   "metadata": {},
   "outputs": [],
   "source": []
  }
 ],
 "metadata": {
  "kernelspec": {
   "display_name": "Python [default]",
   "language": "python",
   "name": "python3"
  },
  "language_info": {
   "codemirror_mode": {
    "name": "ipython",
    "version": 3
   },
   "file_extension": ".py",
   "mimetype": "text/x-python",
   "name": "python",
   "nbconvert_exporter": "python",
   "pygments_lexer": "ipython3",
   "version": "3.6.6"
  }
 },
 "nbformat": 4,
 "nbformat_minor": 2
}
