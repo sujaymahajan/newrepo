{
 "cells": [
  {
   "cell_type": "code",
   "execution_count": null,
   "metadata": {},
   "outputs": [],
   "source": [
    "import os"
   ]
  },
  {
   "cell_type": "code",
   "execution_count": null,
   "metadata": {
    "hide_input": true,
    "inputHidden": true,
    "papermill": {
     "duration": 0.015983,
     "end_time": "2018-10-04T00:24:01.787534",
     "exception": false,
     "start_time": "2018-10-04T00:24:01.771551",
     "status": "completed"
    },
    "tags": []
   },
   "outputs": [],
   "source": [
    "%%html\n",
    "<span style=\"color:red; font-family:Helvetica Neue, Helvetica, Arial, sans-serif; font-size:2em;\">An Exception was encountered at 'In [4]'.</span>"
   ]
  },
  {
   "cell_type": "code",
   "execution_count": null,
   "metadata": {
    "papermill": {
     "duration": 3e-06,
     "end_time": "2018-10-04T00:24:01.787651",
     "exception": null,
     "start_time": "2018-10-04T00:24:01.787648",
     "status": "completed"
    },
    "tags": [
     "parameters"
    ]
   },
   "outputs": [],
   "source": []
  },
  {
   "cell_type": "code",
   "execution_count": null,
   "metadata": {
    "papermill": {
     "duration": 0.011336,
     "end_time": "2018-10-04T00:24:01.803999",
     "exception": false,
     "start_time": "2018-10-04T00:24:01.792663",
     "status": "completed"
    },
    "tags": [
     "injected-parameters"
    ]
   },
   "outputs": [],
   "source": [
    "# Parameters\n",
    "alpha = 0.6\n"
   ]
  },
  {
   "cell_type": "markdown",
   "metadata": {
    "papermill": {
     "duration": 1.3e-05,
     "end_time": "2018-10-04T00:24:01.804129",
     "exception": false,
     "start_time": "2018-10-04T00:24:01.804116",
     "status": "completed"
    },
    "tags": []
   },
   "source": [
    "## This is a sample Jupyter notebook.\n"
   ]
  },
  {
   "cell_type": "markdown",
   "metadata": {
    "papermill": {
     "duration": 1.5e-05,
     "end_time": "2018-10-04T00:24:01.809148",
     "exception": false,
     "start_time": "2018-10-04T00:24:01.809133",
     "status": "completed"
    },
    "tags": []
   },
   "source": [
    "First things first, let's import dependencies and tell Jupyter to show matplot plots inline"
   ]
  },
  {
   "cell_type": "code",
   "execution_count": null,
   "metadata": {
    "papermill": {
     "duration": 3.368751,
     "end_time": "2018-10-04T00:24:05.182675",
     "exception": false,
     "start_time": "2018-10-04T00:24:01.813924",
     "status": "completed"
    },
    "tags": []
   },
   "outputs": [],
   "source": [
    "# Import dependencies\n",
    "import random\n",
    "import matplotlib.pyplot as plt\n",
    "import json\n",
    "import os\n",
    "import sys\n",
    "\n",
    "# Tell Jupyter to show matplot plots inline\n",
    "%matplotlib inline  "
   ]
  },
  {
   "cell_type": "markdown",
   "metadata": {
    "papermill": {
     "duration": 1.3e-05,
     "end_time": "2018-10-04T00:24:05.182893",
     "exception": false,
     "start_time": "2018-10-04T00:24:05.182880",
     "status": "completed"
    },
    "tags": []
   },
   "source": [
    "### Print to console/stdout"
   ]
  },
  {
   "cell_type": "code",
   "execution_count": null,
   "metadata": {
    "papermill": {
     "duration": 0.0104,
     "end_time": "2018-10-04T00:24:05.198282",
     "exception": false,
     "start_time": "2018-10-04T00:24:05.187882",
     "status": "completed"
    },
    "tags": []
   },
   "outputs": [],
   "source": [
    "dataset = sys.argv[1]\n",
    "print(dataset)"
   ]
  }
 ],
 "metadata": {
  "celltoolbar": "Tags",
  "kernelspec": {
   "display_name": "Python 3",
   "language": "python",
   "name": "python3"
  },
  "language_info": {
   "codemirror_mode": {
    "name": "ipython",
    "version": 3
   },
   "file_extension": ".py",
   "mimetype": "text/x-python",
   "name": "python",
   "nbconvert_exporter": "python",
   "pygments_lexer": "ipython3",
   "version": "3.6.3"
  },
  "papermill": {
   "duration": 5.336838,
   "end_time": "2018-10-04T00:24:06.320202",
   "environment_variables": {},
   "exception": false,
   "output_path": "main.ipynb",
   "parameters": {
    "alpha": 0.6
   },
   "start_time": "2018-10-04T00:24:00.983364",
   "version": "0.15.1"
  }
 },
 "nbformat": 4,
 "nbformat_minor": 1
}
